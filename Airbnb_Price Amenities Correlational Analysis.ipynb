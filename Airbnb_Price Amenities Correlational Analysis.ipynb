{
 "cells": [
  {
   "cell_type": "markdown",
   "metadata": {},
   "source": [
    "** Airbnb Data Analysis - Determining the relation of house prices and amenities using Random Forest Regressor**"
   ]
  },
  {
   "cell_type": "code",
   "execution_count": 12,
   "metadata": {
    "collapsed": false,
    "scrolled": true
   },
   "outputs": [
    {
     "name": "stdout",
     "output_type": "stream",
     "text": [
      "C:\\Users\\saj16\\PycharmProjects\\AirbnbDataAnalysisProject/airbnbData.csv\n"
     ]
    },
    {
     "data": {
      "text/html": [
       "<div>\n",
       "<table border=\"1\" class=\"dataframe\">\n",
       "  <thead>\n",
       "    <tr style=\"text-align: right;\">\n",
       "      <th></th>\n",
       "      <th>ListingID</th>\n",
       "      <th>Title</th>\n",
       "      <th>UserID</th>\n",
       "      <th>baseurl</th>\n",
       "      <th>Price</th>\n",
       "      <th>AboutListing</th>\n",
       "      <th>HostName</th>\n",
       "      <th>MemberDate</th>\n",
       "      <th>Lat</th>\n",
       "      <th>Long</th>\n",
       "      <th>...</th>\n",
       "      <th>RespTime</th>\n",
       "      <th>S_Accomodates</th>\n",
       "      <th>S_Bathrooms</th>\n",
       "      <th>S_BedType</th>\n",
       "      <th>S_Bedrooms</th>\n",
       "      <th>S_CheckIn</th>\n",
       "      <th>S_Checkout</th>\n",
       "      <th>S_NumBeds</th>\n",
       "      <th>S_PropType</th>\n",
       "      <th>ShortDesc</th>\n",
       "    </tr>\n",
       "  </thead>\n",
       "  <tbody>\n",
       "    <tr>\n",
       "      <th>0</th>\n",
       "      <td>281552</td>\n",
       "      <td>Harvard Sq Large 1BR overlooks park</td>\n",
       "      <td>1467518</td>\n",
       "      <td>https://www.airbnb.com/s/Cambridge--MA?page=1</td>\n",
       "      <td>175</td>\n",
       "      <td>\\n</td>\n",
       "      <td>Mary Catherine</td>\n",
       "      <td>December 2011</td>\n",
       "      <td>42.377119</td>\n",
       "      <td>-71.120112</td>\n",
       "      <td>...</td>\n",
       "      <td>within a few hours</td>\n",
       "      <td>3</td>\n",
       "      <td>1</td>\n",
       "      <td>Not Found</td>\n",
       "      <td>1</td>\n",
       "      <td>Not Found</td>\n",
       "      <td>Not Found</td>\n",
       "      <td>2</td>\n",
       "      <td>Apartment</td>\n",
       "      <td>\\n    Entire home/apt Ìâåá 24 reviews Ìâåá Har...</td>\n",
       "    </tr>\n",
       "    <tr>\n",
       "      <th>1</th>\n",
       "      <td>182613</td>\n",
       "      <td>Luxury 2BR condo Charlestown Boston</td>\n",
       "      <td>875739</td>\n",
       "      <td>https://www.airbnb.com/s/Charlestown-MA?page=1</td>\n",
       "      <td>249</td>\n",
       "      <td>Entire large modern quiet city condo near ever...</td>\n",
       "      <td>Max</td>\n",
       "      <td>July 2011</td>\n",
       "      <td>42.377387</td>\n",
       "      <td>-71.060435</td>\n",
       "      <td>...</td>\n",
       "      <td>within an hour</td>\n",
       "      <td>8</td>\n",
       "      <td>1</td>\n",
       "      <td>Not Found</td>\n",
       "      <td>2</td>\n",
       "      <td>Not Found</td>\n",
       "      <td>Not Found</td>\n",
       "      <td>3</td>\n",
       "      <td>Apartment</td>\n",
       "      <td>\\n    Entire home/apt Ìâåá 17 reviews Ìâåá Cha...</td>\n",
       "    </tr>\n",
       "    <tr>\n",
       "      <th>2</th>\n",
       "      <td>1587540</td>\n",
       "      <td>Cozy House on Bunker Hill in Boston</td>\n",
       "      <td>2004732</td>\n",
       "      <td>https://www.airbnb.com/s/Charlestown-MA?page=1</td>\n",
       "      <td>225</td>\n",
       "      <td>\\n</td>\n",
       "      <td>Finola</td>\n",
       "      <td>March 2012</td>\n",
       "      <td>42.378898</td>\n",
       "      <td>-71.061182</td>\n",
       "      <td>...</td>\n",
       "      <td>within an hour</td>\n",
       "      <td>4</td>\n",
       "      <td>1.5</td>\n",
       "      <td>Not Found</td>\n",
       "      <td>3</td>\n",
       "      <td>12:00 PM (noon)</td>\n",
       "      <td>Not Found</td>\n",
       "      <td>3</td>\n",
       "      <td>House</td>\n",
       "      <td>\\n    Entire home/apt Ìâåá 5 reviews Ìâåá Char...</td>\n",
       "    </tr>\n",
       "    <tr>\n",
       "      <th>3</th>\n",
       "      <td>469506</td>\n",
       "      <td>Luxury 1bd, Safe/Central Brookline</td>\n",
       "      <td>1766477</td>\n",
       "      <td>https://www.airbnb.com/s/Brookline--MA?page=1</td>\n",
       "      <td>140</td>\n",
       "      <td>\\n</td>\n",
       "      <td>Rupal</td>\n",
       "      <td>February 2012</td>\n",
       "      <td>42.338848</td>\n",
       "      <td>-71.135475</td>\n",
       "      <td>...</td>\n",
       "      <td>within an hour</td>\n",
       "      <td>2</td>\n",
       "      <td>1</td>\n",
       "      <td>Real Bed</td>\n",
       "      <td>1</td>\n",
       "      <td>4:00 PM</td>\n",
       "      <td>11:00 AM</td>\n",
       "      <td>1</td>\n",
       "      <td>Apartment</td>\n",
       "      <td>\\n    Entire home/apt Ìâåá 60 reviews Ìâåá Bro...</td>\n",
       "    </tr>\n",
       "    <tr>\n",
       "      <th>4</th>\n",
       "      <td>3937268</td>\n",
       "      <td>Boston bedroom &amp; private bathroom</td>\n",
       "      <td>2530197</td>\n",
       "      <td>https://www.airbnb.com/s/Brookline--MA?page=1</td>\n",
       "      <td>99</td>\n",
       "      <td>I offer a private basement bedroom with a priv...</td>\n",
       "      <td>Natasha</td>\n",
       "      <td>June 2012</td>\n",
       "      <td>42.343206</td>\n",
       "      <td>-71.119955</td>\n",
       "      <td>...</td>\n",
       "      <td>within a few hours</td>\n",
       "      <td>2</td>\n",
       "      <td>1</td>\n",
       "      <td>Real Bed</td>\n",
       "      <td>1</td>\n",
       "      <td>2:00 PM</td>\n",
       "      <td>10:00 AM</td>\n",
       "      <td>1</td>\n",
       "      <td>House</td>\n",
       "      <td>\\n    Private room Ìâåá 11 reviews Ìâåá Brookl...</td>\n",
       "    </tr>\n",
       "  </tbody>\n",
       "</table>\n",
       "<p>5 rows × 65 columns</p>\n",
       "</div>"
      ],
      "text/plain": [
       "   ListingID                                Title   UserID  \\\n",
       "0     281552  Harvard Sq Large 1BR overlooks park  1467518   \n",
       "1     182613  Luxury 2BR condo Charlestown Boston   875739   \n",
       "2    1587540  Cozy House on Bunker Hill in Boston  2004732   \n",
       "3     469506   Luxury 1bd, Safe/Central Brookline  1766477   \n",
       "4    3937268    Boston bedroom & private bathroom  2530197   \n",
       "\n",
       "                                          baseurl  Price  \\\n",
       "0   https://www.airbnb.com/s/Cambridge--MA?page=1    175   \n",
       "1  https://www.airbnb.com/s/Charlestown-MA?page=1    249   \n",
       "2  https://www.airbnb.com/s/Charlestown-MA?page=1    225   \n",
       "3   https://www.airbnb.com/s/Brookline--MA?page=1    140   \n",
       "4   https://www.airbnb.com/s/Brookline--MA?page=1     99   \n",
       "\n",
       "                                        AboutListing        HostName  \\\n",
       "0                                           \\n        Mary Catherine   \n",
       "1  Entire large modern quiet city condo near ever...             Max   \n",
       "2                                           \\n                Finola   \n",
       "3                                           \\n                 Rupal   \n",
       "4  I offer a private basement bedroom with a priv...         Natasha   \n",
       "\n",
       "       MemberDate        Lat       Long  \\\n",
       "0   December 2011  42.377119 -71.120112   \n",
       "1       July 2011  42.377387 -71.060435   \n",
       "2      March 2012  42.378898 -71.061182   \n",
       "3   February 2012  42.338848 -71.135475   \n",
       "4       June 2012  42.343206 -71.119955   \n",
       "\n",
       "                         ...                                    RespTime  \\\n",
       "0                        ...                          within a few hours   \n",
       "1                        ...                              within an hour   \n",
       "2                        ...                              within an hour   \n",
       "3                        ...                              within an hour   \n",
       "4                        ...                          within a few hours   \n",
       "\n",
       "  S_Accomodates  S_Bathrooms  S_BedType  S_Bedrooms        S_CheckIn  \\\n",
       "0             3            1  Not Found           1        Not Found   \n",
       "1             8            1  Not Found           2        Not Found   \n",
       "2             4          1.5  Not Found           3  12:00 PM (noon)   \n",
       "3             2            1   Real Bed           1          4:00 PM   \n",
       "4             2            1   Real Bed           1          2:00 PM   \n",
       "\n",
       "   S_Checkout  S_NumBeds  S_PropType  \\\n",
       "0   Not Found          2   Apartment   \n",
       "1   Not Found          3   Apartment   \n",
       "2   Not Found          3       House   \n",
       "3    11:00 AM          1   Apartment   \n",
       "4    10:00 AM          1       House   \n",
       "\n",
       "                                           ShortDesc  \n",
       "0  \\n    Entire home/apt Ìâåá 24 reviews Ìâåá Har...  \n",
       "1  \\n    Entire home/apt Ìâåá 17 reviews Ìâåá Cha...  \n",
       "2  \\n    Entire home/apt Ìâåá 5 reviews Ìâåá Char...  \n",
       "3  \\n    Entire home/apt Ìâåá 60 reviews Ìâåá Bro...  \n",
       "4  \\n    Private room Ìâåá 11 reviews Ìâåá Brookl...  \n",
       "\n",
       "[5 rows x 65 columns]"
      ]
     },
     "execution_count": 12,
     "metadata": {},
     "output_type": "execute_result"
    }
   ],
   "source": [
    "# Reading the Dataset into pandas dataframe\n",
    "import pandas as pd\n",
    "import os\n",
    "mydir = os.getcwd()\n",
    "print(mydir + '/airbnbData.csv')\n",
    "housing = pd.read_csv(mydir + '/airbnbData.csv', encoding='ISO-8859-1')\n",
    "housing.head()"
   ]
  },
  {
   "cell_type": "code",
   "execution_count": 19,
   "metadata": {
    "collapsed": false
   },
   "outputs": [
    {
     "name": "stderr",
     "output_type": "stream",
     "text": [
      "C:\\Users\\saj16\\Anaconda3\\lib\\site-packages\\seaborn\\linearmodels.py:1290: UserWarning: The `corrplot` function has been deprecated in favor of `heatmap` and will be removed in a forthcoming release. Please update your code.\n",
      "  warnings.warn((\"The `corrplot` function has been deprecated in favor \"\n",
      "C:\\Users\\saj16\\Anaconda3\\lib\\site-packages\\seaborn\\linearmodels.py:1356: UserWarning: The `symmatplot` function has been deprecated in favor of `heatmap` and will be removed in a forthcoming release. Please update your code.\n",
      "  warnings.warn((\"The `symmatplot` function has been deprecated in favor \"\n"
     ]
    },
    {
     "data": {
      "image/png": "[encoded data removed]",
      "text/plain": [
       "<matplotlib.figure.Figure at 0x29449d6dac8>"
      ]
     },
     "metadata": {},
     "output_type": "display_data"
    }
   ],
   "source": [
    "# Correlation Plot\n",
    "import matplotlib.pyplot as plt # module for plotting \n",
    "import seaborn as sns\n",
    "from seaborn.linearmodels import corrplot\n",
    "%matplotlib inline \n",
    "\n",
    "sns.set(style=\"darkgrid\")\n",
    "\n",
    "f, ax = plt.subplots(figsize=(9, 9))\n",
    "corrplot(housing, annot=False, sig_stars=False, diag_names=False, ax=ax)\n",
    "plt.title('Correlation Matrix - All Variables')\n",
    "plt.show()"
   ]
  },
  {
   "cell_type": "markdown",
   "metadata": {},
   "source": [
    "**Figuring important attributes to predict the price of future housing on Airbnb using Random Forest. **"
   ]
  },
  {
   "cell_type": "code",
   "execution_count": 39,
   "metadata": {
    "collapsed": false
   },
   "outputs": [],
   "source": [
    "cluster_dat = housing[[u'A_AC', u'A_Breakfast', u'A_CableTV', u'A_CarbonMonoxDetector', u'A_Doorman', \n",
    "                      u'A_Dryer', u'A_TV', u'A_Elevator', u'A_Essentials', u'A_Events', u'A_FamilyFriendly', \n",
    "                      u'A_FireExt', u'A_Fireplace', u'A_FirstAidKit', u'A_Gym', u'A_Heat', u'A_HotTub', u'A_Intercom', \n",
    "                      u'A_Internet', u'A_Kitchen', u'A_Parking', u'A_Pets', u'A_Pool', \n",
    "                      u'A_SafetyCard', u'A_Shampoo', u'A_SmokeDetector', u'A_Smoking', u'A_Washer', u'A_Wheelchair']]"
   ]
  },
  {
   "cell_type": "code",
   "execution_count": 41,
   "metadata": {
    "collapsed": false
   },
   "outputs": [
    {
     "data": {
      "image/png": "[encoded data removed]",
      "text/plain": [
       "<matplotlib.figure.Figure at 0x2944e577ef0>"
      ]
     },
     "metadata": {},
     "output_type": "display_data"
    }
   ],
   "source": [
    "# Applying PCA for Dimensionality reduction\n",
    "import numpy as np\n",
    "from sklearn.decomposition import PCA\n",
    "from sklearn import preprocessing\n",
    "pca = PCA()\n",
    "pcaResults = pca.fit(cluster_dat)\n",
    "\n",
    "plt.plot(npcaResultsp.cumsum(pcaResults.explained_variance_ratio_))\n",
    "plt.title('Cumalitive Proportion of Variance Explained - Principal Components')\n",
    "plt.xlabel('Number of Principal Components')\n",
    "plt.show()"
   ]
  },
  {
   "cell_type": "code",
   "execution_count": 66,
   "metadata": {
    "collapsed": false
   },
   "outputs": [
    {
     "name": "stderr",
     "output_type": "stream",
     "text": [
      "C:\\Users\\saj16\\Anaconda3\\lib\\site-packages\\sklearn\\model_selection\\_search.py:662: DeprecationWarning: The grid_scores_ attribute was deprecated in version 0.18 in favor of the more elaborate cv_results_ attribute. The grid_scores_ attribute will not be available from 0.20\n",
      "  DeprecationWarning)\n"
     ]
    }
   ],
   "source": [
    "from sklearn.model_selection import RandomizedSearchCV\n",
    "from sklearn.ensemble import RandomForestRegressor\n",
    "from sklearn.preprocessing import Imputer\n",
    "from scipy.stats import randint\n",
    "\n",
    "#Create Parameter Grid\n",
    "tunedParameters = {'n_estimators': randint(low=1, high=21)}\n",
    "\n",
    "forest_reg = RandomForestRegressor(n_jobs = 1)\n",
    "clf = RandomizedSearchCV(forest_reg, param_distributions=tunedParameters, n_iter=10, cv=10)\n",
    "\n",
    "#Fit Random Forest\n",
    "Y = housing[u'Price'].astype(float)\n",
    "X = cluster_dat[[u'A_AC', u'A_Breakfast', u'A_CableTV', u'A_CarbonMonoxDetector', \n",
    "                   u'A_Doorman', u'A_Dryer', u'A_TV', u'A_Elevator', u'A_Essentials', u'A_Events', \n",
    "                   u'A_FamilyFriendly', u'A_FireExt', u'A_Fireplace', u'A_FirstAidKit', u'A_Gym', \n",
    "                   u'A_Heat', u'A_HotTub', u'A_Intercom', u'A_Internet', u'A_Kitchen', u'A_Parking', \n",
    "                   u'A_Pets', u'A_Pool', u'A_SafetyCard', u'A_Shampoo', u'A_SmokeDetector', u'A_Smoking', \n",
    "                   u'A_Washer', u'A_Wheelchair']]\n",
    "\n",
    "ImputeMissing = Imputer(strategy = 'most_frequent')\n",
    "Xt = pd.DataFrame(ImputeMissing.fit_transform(X))\n",
    "Xt.columns = X.columns\n",
    "clf.fit(Xt, Y)\n",
    "\n",
    "num_trees = []\n",
    "meanCVScore = []\n",
    "stdCVScore = []\n",
    "\n",
    "for n, mean, cv in clf.grid_scores_:\n",
    "    num_trees.append(n['n_estimators'])\n",
    "    meanCVScore.append(mean)\n",
    "    stdCVScore.append(np.std(cv) * 2)"
   ]
  },
  {
   "cell_type": "code",
   "execution_count": 67,
   "metadata": {
    "collapsed": false
   },
   "outputs": [
    {
     "name": "stderr",
     "output_type": "stream",
     "text": [
      "C:\\Users\\saj16\\Anaconda3\\lib\\site-packages\\sklearn\\model_selection\\_search.py:662: DeprecationWarning: The grid_scores_ attribute was deprecated in version 0.18 in favor of the more elaborate cv_results_ attribute. The grid_scores_ attribute will not be available from 0.20\n",
      "  DeprecationWarning)\n"
     ]
    },
    {
     "data": {
      "text/plain": [
       "[mean: -6.21534, std: 8.88483, params: {'n_estimators': 3},\n",
       " mean: -4.87263, std: 9.13634, params: {'n_estimators': 8},\n",
       " mean: -4.83718, std: 6.80300, params: {'n_estimators': 13},\n",
       " mean: -3.15971, std: 5.78795, params: {'n_estimators': 14},\n",
       " mean: -1.94033, std: 1.90026, params: {'n_estimators': 14},\n",
       " mean: -6.21977, std: 9.09012, params: {'n_estimators': 6},\n",
       " mean: -1.05542, std: 0.85853, params: {'n_estimators': 6},\n",
       " mean: -3.91062, std: 5.00818, params: {'n_estimators': 4},\n",
       " mean: -1.54010, std: 2.06283, params: {'n_estimators': 13},\n",
       " mean: -2.81867, std: 4.27715, params: {'n_estimators': 18}]"
      ]
     },
     "execution_count": 67,
     "metadata": {},
     "output_type": "execute_result"
    }
   ],
   "source": [
    "# Lets print the grid_scores to determine the best model\n",
    "clf.grid_scores_"
   ]
  },
  {
   "cell_type": "code",
   "execution_count": 69,
   "metadata": {
    "collapsed": false
   },
   "outputs": [
    {
     "data": {
      "text/plain": [
       "GridSearchCV(cv=10, error_score='raise',\n",
       "       estimator=RandomForestRegressor(bootstrap=True, criterion='mse', max_depth=None,\n",
       "           max_features='auto', max_leaf_nodes=None,\n",
       "           min_impurity_split=1e-07, min_samples_leaf=1,\n",
       "           min_samples_split=2, min_weight_fraction_leaf=0.0,\n",
       "           n_estimators=10, n_jobs=1, oob_score=False, random_state=None,\n",
       "           verbose=0, warm_start=False),\n",
       "       fit_params={}, iid=True, n_jobs=1,\n",
       "       param_grid=[{'n_estimators': [7]}], pre_dispatch='2*n_jobs',\n",
       "       refit=True, scoring=None, verbose=0)"
      ]
     },
     "execution_count": 69,
     "metadata": {},
     "output_type": "execute_result"
    }
   ],
   "source": [
    "tunedParameters = [{'n_estimators':[7]}]\n",
    "clf2 = GridSearchCV(RandomForestRegressor(n_jobs = 1, criterion='mse'), \n",
    "                    param_grid = tunedParameters, cv=10)\n",
    "#Fit Model\n",
    "clf2.fit(Xt, Y)"
   ]
  },
  {
   "cell_type": "code",
   "execution_count": 70,
   "metadata": {
    "collapsed": false
   },
   "outputs": [
    {
     "name": "stderr",
     "output_type": "stream",
     "text": [
      "C:\\Users\\saj16\\Anaconda3\\lib\\site-packages\\ipykernel\\__main__.py:2: FutureWarning: sort(columns=....) is deprecated, use sort_values(by=.....)\n",
      "  from ipykernel import kernelapp as app\n"
     ]
    },
    {
     "data": {
      "text/html": [
       "<div>\n",
       "<table border=\"1\" class=\"dataframe\">\n",
       "  <thead>\n",
       "    <tr style=\"text-align: right;\">\n",
       "      <th></th>\n",
       "      <th>importance</th>\n",
       "    </tr>\n",
       "    <tr>\n",
       "      <th>feature</th>\n",
       "      <th></th>\n",
       "    </tr>\n",
       "  </thead>\n",
       "  <tbody>\n",
       "    <tr>\n",
       "      <th>A_Essentials</th>\n",
       "      <td>0.341784</td>\n",
       "    </tr>\n",
       "    <tr>\n",
       "      <th>A_SmokeDetector</th>\n",
       "      <td>0.178341</td>\n",
       "    </tr>\n",
       "    <tr>\n",
       "      <th>A_FamilyFriendly</th>\n",
       "      <td>0.118997</td>\n",
       "    </tr>\n",
       "    <tr>\n",
       "      <th>A_AC</th>\n",
       "      <td>0.075010</td>\n",
       "    </tr>\n",
       "    <tr>\n",
       "      <th>A_TV</th>\n",
       "      <td>0.058831</td>\n",
       "    </tr>\n",
       "    <tr>\n",
       "      <th>A_Washer</th>\n",
       "      <td>0.056249</td>\n",
       "    </tr>\n",
       "    <tr>\n",
       "      <th>A_Pool</th>\n",
       "      <td>0.034518</td>\n",
       "    </tr>\n",
       "    <tr>\n",
       "      <th>A_Dryer</th>\n",
       "      <td>0.021259</td>\n",
       "    </tr>\n",
       "    <tr>\n",
       "      <th>A_Elevator</th>\n",
       "      <td>0.016411</td>\n",
       "    </tr>\n",
       "    <tr>\n",
       "      <th>A_FireExt</th>\n",
       "      <td>0.012924</td>\n",
       "    </tr>\n",
       "    <tr>\n",
       "      <th>A_CarbonMonoxDetector</th>\n",
       "      <td>0.010506</td>\n",
       "    </tr>\n",
       "    <tr>\n",
       "      <th>A_Internet</th>\n",
       "      <td>0.008542</td>\n",
       "    </tr>\n",
       "    <tr>\n",
       "      <th>A_Shampoo</th>\n",
       "      <td>0.008436</td>\n",
       "    </tr>\n",
       "    <tr>\n",
       "      <th>A_FirstAidKit</th>\n",
       "      <td>0.005871</td>\n",
       "    </tr>\n",
       "    <tr>\n",
       "      <th>A_CableTV</th>\n",
       "      <td>0.005196</td>\n",
       "    </tr>\n",
       "    <tr>\n",
       "      <th>A_HotTub</th>\n",
       "      <td>0.005063</td>\n",
       "    </tr>\n",
       "    <tr>\n",
       "      <th>A_Parking</th>\n",
       "      <td>0.004867</td>\n",
       "    </tr>\n",
       "    <tr>\n",
       "      <th>A_Fireplace</th>\n",
       "      <td>0.004808</td>\n",
       "    </tr>\n",
       "    <tr>\n",
       "      <th>A_Wheelchair</th>\n",
       "      <td>0.004782</td>\n",
       "    </tr>\n",
       "    <tr>\n",
       "      <th>A_Breakfast</th>\n",
       "      <td>0.004421</td>\n",
       "    </tr>\n",
       "  </tbody>\n",
       "</table>\n",
       "</div>"
      ],
      "text/plain": [
       "                       importance\n",
       "feature                          \n",
       "A_Essentials             0.341784\n",
       "A_SmokeDetector          0.178341\n",
       "A_FamilyFriendly         0.118997\n",
       "A_AC                     0.075010\n",
       "A_TV                     0.058831\n",
       "A_Washer                 0.056249\n",
       "A_Pool                   0.034518\n",
       "A_Dryer                  0.021259\n",
       "A_Elevator               0.016411\n",
       "A_FireExt                0.012924\n",
       "A_CarbonMonoxDetector    0.010506\n",
       "A_Internet               0.008542\n",
       "A_Shampoo                0.008436\n",
       "A_FirstAidKit            0.005871\n",
       "A_CableTV                0.005196\n",
       "A_HotTub                 0.005063\n",
       "A_Parking                0.004867\n",
       "A_Fireplace              0.004808\n",
       "A_Wheelchair             0.004782\n",
       "A_Breakfast              0.004421"
      ]
     },
     "execution_count": 70,
     "metadata": {},
     "output_type": "execute_result"
    }
   ],
   "source": [
    "FeatImp = pd.DataFrame({'feature': list(Xt.columns), 'importance': list(clf2.best_estimator_.feature_importances_)})\n",
    "FeatImp = FeatImp.sort('importance', ascending = False)\n",
    "#Set Index To Field You want to Sort Bar Chart By\n",
    "FeatImp = FeatImp.set_index('feature')\n",
    "FeatImp.head(20)"
   ]
  },
  {
   "cell_type": "markdown",
   "metadata": {},
   "source": [
    "Among the amenities in the house, the most important of all essentials, SmokeDetector and FamilyFriendly that were determinants of price of any new house. "
   ]
  }
 ],
 "metadata": {
  "anaconda-cloud": {},
  "kernelspec": {
   "display_name": "Python [Root]",
   "language": "python",
   "name": "Python [Root]"
  },
  "language_info": {
   "codemirror_mode": {
    "name": "ipython",
    "version": 3
   },
   "file_extension": ".py",
   "mimetype": "text/x-python",
   "name": "python",
   "nbconvert_exporter": "python",
   "pygments_lexer": "ipython3",
   "version": "3.5.2"
  }
 },
 "nbformat": 4,
 "nbformat_minor": 0
}
